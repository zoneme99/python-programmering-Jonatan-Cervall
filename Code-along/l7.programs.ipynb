{
 "cells": [
  {
   "cell_type": "markdown",
   "metadata": {},
   "source": [
    "## Logic\n",
    "\n",
    "### Boolean logic\n",
    "Only two values: 0, 1 (False, True)\n",
    "\n",
    "Valuation function\n",
    "    - determines the truth value of a boolean expression\n",
    "\n",
    "Operators:\n",
    "<, > (numbers)\n",
    "\n",
    "a AND b (a, b are booleans)\n",
    "\n",
    "a OR b\n",
    "\n",
    "a XOR b\n",
    "\n",
    "a IMPL b\n",
    "\n",
    "a EQ b\n",
    "\n",
    "a → b\n",
    "\n",
    "\n",
    "|OP | a | b | output |\n",
    "|---|--|---|---|\n",
    "|AND|F | F| F\n",
    "|AND|T |F|F\n",
    "|AND|F |T|F\n",
    "|AND|T | T| T"
   ]
  },
  {
   "cell_type": "markdown",
   "metadata": {
    "vscode": {
     "languageId": "plaintext"
    }
   },
   "source": [
    "## Symbols are data\n",
    "\n",
    "| 1 | 0 | 1 |\n",
    "\n",
    "1* 2⁰ + 0*2¹ + 1*2² = 5\n",
    "\n",
    "65 (decimal):\n",
    "    ASCII (65) = 'A'\n"
   ]
  },
  {
   "cell_type": "markdown",
   "metadata": {},
   "source": [
    "Unlike mathematics, in programming, functions have _contexts_.\n",
    "\n"
   ]
  }
 ],
 "metadata": {
  "language_info": {
   "name": "python"
  }
 },
 "nbformat": 4,
 "nbformat_minor": 2
}
