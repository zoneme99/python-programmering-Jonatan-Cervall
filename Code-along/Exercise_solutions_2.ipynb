{
 "cells": [
  {
   "cell_type": "markdown",
   "metadata": {},
   "source": [
    "# Exercise session 3"
   ]
  },
  {
   "cell_type": "markdown",
   "metadata": {},
   "source": [
    "## 8-02 file handling\n",
    "\n"
   ]
  },
  {
   "cell_type": "code",
   "execution_count": 2,
   "metadata": {},
   "outputs": [
    {
     "name": "stdout",
     "output_type": "stream",
     "text": [
      "Adam Gustafsson 25\n",
      "Emil Johansson 23\n",
      "Sven Erik Karlsson 13\n",
      "Ove Karlsten 41\n",
      "Emma Boden 32\n",
      "Ida Håkansson 23\n",
      "Ella Ester 41\n",
      "Hanna Karlsson 23 \n",
      "Johan Johansson 42\n",
      "Sven Erik Lundin 39\n",
      "Björn Björnsson 39\n",
      "Karl Karlsson 32\n",
      "Bose Bosseson 32\n",
      "Håkan Håkanson 24\n",
      "Jonas Jonasson 31\n",
      "Erik Eriksson 31\n",
      "Gore Bord 55\n",
      "Jakob Kallander 65\n",
      "Fredrika Ulven 10"
     ]
    }
   ],
   "source": [
    "# a)\n",
    "\n",
    "with open(\"../Data/Provresultat.txt\") as f_read:\n",
    "    # each line is stored in a list\n",
    "    # each line is a string and it has \\n in the end\n",
    "    lines = f_read.readlines()\n",
    "    #print(lines)\n",
    "\n",
    "    # -------------------a)-------------------\n",
    "    # loops through the lines and prints each line\n",
    "    for line in lines:\n",
    "        print(line, end = \"\")"
   ]
  },
  {
   "cell_type": "code",
   "execution_count": 42,
   "metadata": {},
   "outputs": [
    {
     "name": "stdout",
     "output_type": "stream",
     "text": [
      "FEDCBA\n",
      "25\n",
      "23\n",
      "13\n",
      "41\n",
      "32\n",
      "23\n",
      "41\n",
      "23\n",
      "42\n",
      "39\n",
      "39\n",
      "32\n",
      "32\n",
      "24\n",
      "31\n",
      "31\n",
      "55\n",
      "65\n",
      "10\n",
      "25\n",
      "23\n",
      "13\n",
      "41\n",
      "32\n",
      "23\n",
      "41\n",
      "23\n",
      "42\n",
      "39\n",
      "39\n",
      "32\n",
      "32\n",
      "24\n",
      "31\n",
      "31\n",
      "55\n",
      "65\n",
      "10\n",
      "25\n",
      "23\n",
      "13\n",
      "41\n",
      "32\n",
      "23\n",
      "41\n",
      "23\n",
      "42\n",
      "39\n",
      "39\n",
      "32\n",
      "32\n",
      "24\n",
      "31\n",
      "31\n",
      "55\n",
      "65\n",
      "10\n",
      "25\n",
      "23\n",
      "13\n",
      "41\n",
      "32\n",
      "23\n",
      "41\n",
      "23\n",
      "42\n",
      "39\n",
      "39\n",
      "32\n",
      "32\n",
      "24\n",
      "31\n",
      "31\n",
      "55\n",
      "65\n",
      "10\n",
      "25\n",
      "23\n",
      "13\n",
      "41\n",
      "32\n",
      "23\n",
      "41\n",
      "23\n",
      "42\n",
      "39\n",
      "39\n",
      "32\n",
      "32\n",
      "24\n",
      "31\n",
      "31\n",
      "55\n",
      "65\n",
      "10\n",
      "25\n",
      "23\n",
      "13\n",
      "41\n",
      "32\n",
      "23\n",
      "41\n",
      "23\n",
      "42\n",
      "39\n",
      "39\n",
      "32\n",
      "32\n",
      "24\n",
      "31\n",
      "31\n",
      "55\n",
      "65\n",
      "10\n"
     ]
    }
   ],
   "source": [
    "# b) and c)\n",
    "with open(\"data/Provresultat.txt\", \"r\") as f_read, open(\"data/Provresultat_tmp.txt\", \"w\") as f_write:\n",
    "    lines = f_read.readlines()\n",
    "    #print(lines[-1])\n",
    "\n",
    "    lines[-1] += \"\\n\"\n",
    "    #print(lines)\n",
    "\n",
    "    # returns None, it mutates (changes) the list\n",
    "    #lines.sort()\n",
    "    #print(lines)\n",
    "\n",
    "    # ----------------------------b)--------------------------\n",
    "    # returns a new list of sorted elements\n",
    "    lines_sorted_alphabetically = sorted(lines)\n",
    "    #print(lines_sorted_alphabetically)\n",
    "\n",
    "    for line in lines_sorted_alphabetically:\n",
    "        f_write.write(line)\n",
    "\n",
    "\n",
    "    f_write.write(\"\\n\\nSorterat efter betyg\\n\\n\")\n",
    "\n",
    "    # ----------------------------c)--------------------------\n",
    "    # need to split and find the score for each line\n",
    "    # put them in grade order\n",
    "\n",
    "    grades = \"ABCDEF\"[::-1]\n",
    "    print(grades)\n",
    "\n",
    "    for grade, limit in zip(grades, range(20, 71, 10)):\n",
    "\n",
    "        f_write.write(f\"\\nBetyg {grade}\\n\")\n",
    "\n",
    "        for line in lines:\n",
    "            #print(line.split()) # this gives a list for each line \n",
    "            print(line.split()[-1])\n",
    "\n",
    "            point = int(line.split()[-1]) # type converts string to int\n",
    "            # if statement requires test between same types\n",
    "            \n",
    "            # handle F separately in order not to miss those lower than 10\n",
    "\n",
    "            if limit-10 <= point < limit:\n",
    "                f_write.write(f\"{line}\") # type converts int to string, in order to write it to a txt file\n"
   ]
  },
  {
   "cell_type": "code",
   "execution_count": 47,
   "metadata": {},
   "outputs": [
    {
     "name": "stdout",
     "output_type": "stream",
     "text": [
      "FEDCBA\n"
     ]
    }
   ],
   "source": [
    "# b) and c)\n",
    "with open(\"data/Provresultat.txt\", \"r\") as f_read, open(\"data/Provresultat.txt\", \"a\") as f_write:\n",
    "    lines = f_read.readlines()\n",
    "\n",
    "    lines[-1] += \"\\n\"\n",
    "\n",
    "    f_write.write(\"\\n\\nAlfabetisk ordning\\n\")\n",
    "\n",
    "    # ----------------------------b)--------------------------\n",
    "    lines_sorted_alphabetically = sorted(lines)\n",
    "\n",
    "    for line in lines_sorted_alphabetically:\n",
    "        f_write.write(line)\n",
    "\n",
    "\n",
    "    f_write.write(\"\\n\\nSorterat efter betyg\\n\\n\")\n",
    "\n",
    "    # ----------------------------c)--------------------------\n",
    "    # need to split and find the score for each line\n",
    "    # put them in grade order\n",
    "\n",
    "    grades = \"ABCDEF\"[::-1]\n",
    "    print(grades)\n",
    "\n",
    "    for grade, limit in zip(grades, range(20, 71, 10)):\n",
    "\n",
    "        f_write.write(f\"\\nBetyg {grade}\\n\")\n",
    "\n",
    "        for line in lines:\n",
    "            #print(line.split()) # this gives a list for each line \n",
    "            #print(line.split()[-1])\n",
    "\n",
    "            point = int(line.split()[-1]) # type converts string to int\n",
    "            # if statement requires test between same types\n",
    "            \n",
    "            # handle F separately in order not to miss those lower than 10\n",
    "\n",
    "            if limit-10 <= point < limit:\n",
    "                f_write.write(line) \n"
   ]
  },
  {
   "cell_type": "code",
   "execution_count": 33,
   "metadata": {},
   "outputs": [
    {
     "name": "stdout",
     "output_type": "stream",
     "text": [
      "F 20\n",
      "E 30\n",
      "D 40\n",
      "C 50\n",
      "B 60\n",
      "A 70\n"
     ]
    }
   ],
   "source": [
    "for grade, limit in zip(grades, range(20, 71, 10)):\n",
    "    print(grade, limit)"
   ]
  },
  {
   "cell_type": "code",
   "execution_count": 45,
   "metadata": {},
   "outputs": [
    {
     "name": "stdout",
     "output_type": "stream",
     "text": [
      "1\n",
      "3\n",
      "5\n",
      "7\n",
      "9\n"
     ]
    }
   ],
   "source": [
    "for i in range(1,10,2):\n",
    "    print(i)"
   ]
  }
 ],
 "metadata": {
  "kernelspec": {
   "display_name": "Python 3.9.6 ('Python-course-AI22-FPwBLMbm')",
   "language": "python",
   "name": "python3"
  },
  "language_info": {
   "codemirror_mode": {
    "name": "ipython",
    "version": 3
   },
   "file_extension": ".py",
   "mimetype": "text/x-python",
   "name": "python",
   "nbconvert_exporter": "python",
   "pygments_lexer": "ipython3",
   "version": "3.12.6"
  },
  "orig_nbformat": 4,
  "vscode": {
   "interpreter": {
    "hash": "3b136723b0d4708e16bf623335cc8688085bd3f1313316a001291a7f1d2024db"
   }
  }
 },
 "nbformat": 4,
 "nbformat_minor": 2
}
