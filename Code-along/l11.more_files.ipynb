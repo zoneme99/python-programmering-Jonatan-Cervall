{
 "cells": [
  {
   "cell_type": "code",
   "execution_count": 16,
   "metadata": {},
   "outputs": [
    {
     "name": "stdout",
     "output_type": "stream",
     "text": [
      "Adam Gustafsson 25\n",
      "Emil Johansson 23\n",
      "Sven Erik Karlsson 13\n",
      "Ove Karlsten 41\n",
      "Emma Boden 32\n",
      "Ida Håkansson 23\n",
      "Ella Ester 41\n",
      "Bäste Bästesson 70\n",
      "Hanna Karlsson 23 \n",
      "Johan Johansson 42\n",
      "Sven Erik Lundin 39\n",
      "Björn Björnsson 39\n",
      "Karl Karlsson 32\n",
      "Bose Bosseson 32\n",
      "Håkan Håkanson 24\n",
      "Jonas Jonasson 31\n",
      "Erik Eriksson 31\n",
      "Gore Bord 55\n",
      "Jakob Kallander 65\n",
      "Fredrika Ulven 10"
     ]
    }
   ],
   "source": [
    "with open(\"../Data/Provresultat.txt\") as f_read:\n",
    "    # each line is stored in a list\n",
    "    # each line ends in newlinw '\\n'\n",
    "    lines = f_read.readlines()\n",
    "\n",
    "for line in lines:\n",
    "    print(line, end=\"\")\n"
   ]
  },
  {
   "cell_type": "code",
   "execution_count": 17,
   "metadata": {},
   "outputs": [
    {
     "name": "stdout",
     "output_type": "stream",
     "text": [
      "FEDCBA\n"
     ]
    }
   ],
   "source": [
    "with open(\"../Data/Provresultat.txt\", \"r\") as f_read, open(\"../Data/Provresultat.tmp.txt\", \"w\") as f_write:\n",
    "    lines = f_read.readlines()\n",
    "    \n",
    "    # last element lacks ending newline\n",
    "    lines[-1] += '\\n'\n",
    "\n",
    "    lines_sorted = sorted(lines)\n",
    "    for line in lines_sorted:\n",
    "        f_write.write(line)\n",
    "    f_write.write(\"\\nSorterat efter betyg\\n\")\n",
    "\n",
    "    grades = \"ABCDEF\"[::-1]\n",
    "    print(grades)\n",
    "\n",
    "    for grade, limit in zip(grades, range(20, 71, 10)):\n",
    "        f_write.write(f\"\\nBetyg {grade}\\n\")\n",
    "        for line in lines:\n",
    "            score = int(line.split()[-1])\n",
    "            if limit-10 <= score <= limit:\n",
    "                f_write.write(line)"
   ]
  }
 ],
 "metadata": {
  "kernelspec": {
   "display_name": ".venv",
   "language": "python",
   "name": "python3"
  },
  "language_info": {
   "codemirror_mode": {
    "name": "ipython",
    "version": 3
   },
   "file_extension": ".py",
   "mimetype": "text/x-python",
   "name": "python",
   "nbconvert_exporter": "python",
   "pygments_lexer": "ipython3",
   "version": "3.12.6"
  }
 },
 "nbformat": 4,
 "nbformat_minor": 2
}
