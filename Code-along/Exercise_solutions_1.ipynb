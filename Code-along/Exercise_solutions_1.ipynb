{
 "cells": [
  {
   "cell_type": "markdown",
   "metadata": {},
   "source": [
    "# Exercise session 2"
   ]
  },
  {
   "cell_type": "markdown",
   "metadata": {},
   "source": [
    "## Ex 3-06 \n",
    "\n",
    "$$s = \\sum_{i=0}^{63} 2^i = 2^0 + 2^1 + \\ldots + 2^{63}$$"
   ]
  },
  {
   "cell_type": "code",
   "execution_count": 2,
   "metadata": {},
   "outputs": [
    {
     "name": "stdout",
     "output_type": "stream",
     "text": [
      "18446744073709551615\n"
     ]
    }
   ],
   "source": [
    "my_sum = 0\n",
    "rice = 1\n",
    "\n",
    "for i in range(64):\n",
    "    my_sum += rice\n",
    "    rice *= 2\n",
    "\n",
    "print(f\"{my_sum}\")\n"
   ]
  },
  {
   "cell_type": "code",
   "execution_count": 3,
   "metadata": {},
   "outputs": [
    {
     "name": "stdout",
     "output_type": "stream",
     "text": [
      "18446744073709551615\n"
     ]
    }
   ],
   "source": [
    "my_sum = 0\n",
    "\n",
    "for i in range(64):\n",
    "    my_sum += 2**i\n",
    "\n",
    "print(f\"{my_sum}\")"
   ]
  },
  {
   "cell_type": "code",
   "execution_count": null,
   "metadata": {},
   "outputs": [],
   "source": [
    "rice_production = 755.5e9 # kg\n",
    "# hur många riskorn finns i ett kg?\n"
   ]
  },
  {
   "cell_type": "code",
   "execution_count": 45,
   "metadata": {},
   "outputs": [
    {
     "name": "stdout",
     "output_type": "stream",
     "text": [
      "number of iterations: 1000002\n",
      "sum: 0.7854 or 0.2500π\n"
     ]
    }
   ],
   "source": [
    "import numpy as np\n",
    "\n",
    "def term(n):\n",
    "    return np.divide(np.float_power((-1), n), 2*n+1)\n",
    "\n",
    "n=0\n",
    "acc = 0\n",
    "v = 0\n",
    "e = 1\n",
    "d = np.float_power(10, -6)\n",
    "while e > d:\n",
    "    prev = v\n",
    "    v = term(n)\n",
    "    e = np.absolute(prev - v)    \n",
    "    acc += v\n",
    "    n += 1\n",
    "\n",
    "print(f\"number of iterations: {n}\\nsum: {acc:.4f} or {np.divide(acc, np.pi):.4f}π\")    \n",
    "    "
   ]
  },
  {
   "cell_type": "code",
   "execution_count": 46,
   "metadata": {},
   "outputs": [
    {
     "name": "stdout",
     "output_type": "stream",
     "text": [
      "sum: 0.7854 or 0.2500π\n"
     ]
    }
   ],
   "source": [
    "X = np.arange(1000000)\n",
    "s = np.sum(term(X))\n",
    "print(f\"sum: {s:.4f} or {np.divide(s, np.pi):.4f}π\")    "
   ]
  }
 ],
 "metadata": {
  "kernelspec": {
   "display_name": "Python 3.9.6 64-bit",
   "language": "python",
   "name": "python3"
  },
  "language_info": {
   "codemirror_mode": {
    "name": "ipython",
    "version": 3
   },
   "file_extension": ".py",
   "mimetype": "text/x-python",
   "name": "python",
   "nbconvert_exporter": "python",
   "pygments_lexer": "ipython3",
   "version": "3.12.6"
  },
  "orig_nbformat": 4,
  "vscode": {
   "interpreter": {
    "hash": "0da836a34428266995a795f1e1e27b816fa1c02f148d9728b3fbbbc5459afca6"
   }
  }
 },
 "nbformat": 4,
 "nbformat_minor": 2
}
