{
 "cells": [
  {
   "cell_type": "code",
   "execution_count": 11,
   "metadata": {},
   "outputs": [
    {
     "ename": "TypeError",
     "evalue": "Can't instantiate abstract class Rectangle without an implementation for abstract method 'area'",
     "output_type": "error",
     "traceback": [
      "\u001b[0;31m---------------------------------------------------------------------------\u001b[0m",
      "\u001b[0;31mTypeError\u001b[0m                                 Traceback (most recent call last)",
      "Cell \u001b[0;32mIn[11], line 31\u001b[0m\n\u001b[1;32m     27\u001b[0m         \u001b[38;5;28mself\u001b[39m\u001b[38;5;241m.\u001b[39m_short \u001b[38;5;241m=\u001b[39m short\n\u001b[1;32m     30\u001b[0m s \u001b[38;5;241m=\u001b[39m Square(\u001b[38;5;241m2\u001b[39m)\n\u001b[0;32m---> 31\u001b[0m r \u001b[38;5;241m=\u001b[39m \u001b[43mRectangle\u001b[49m\u001b[43m(\u001b[49m\u001b[38;5;241;43m2\u001b[39;49m\u001b[43m,\u001b[49m\u001b[38;5;241;43m4\u001b[39;49m\u001b[43m)\u001b[49m\n\u001b[1;32m     32\u001b[0m shape \u001b[38;5;241m=\u001b[39m Shape()\n\u001b[1;32m     33\u001b[0m s\u001b[38;5;241m.\u001b[39marea\n",
      "\u001b[0;31mTypeError\u001b[0m: Can't instantiate abstract class Rectangle without an implementation for abstract method 'area'"
     ]
    }
   ],
   "source": [
    "from abc import abstractmethod, ABC\n",
    "\n",
    "class Shape(ABC):\n",
    "\n",
    "    @abstractmethod\n",
    "    def area(self):\n",
    "        pass\n",
    "\n",
    "class Square(Shape):\n",
    "\n",
    "    def __init__(self, side):\n",
    "        self._side = side\n",
    "\n",
    "    @property\n",
    "    def side(self):\n",
    "        return self._side\n",
    "    \n",
    "    @property\n",
    "    def area(self):\n",
    "        return self._side**2\n",
    "    \n",
    "\n",
    "class Rectangle(Shape):\n",
    "\n",
    "    def __init__(self, long, short):\n",
    "        self._long = long\n",
    "        self._short = short\n",
    "    \n",
    "    \n",
    "s = Square(2)\n",
    "r = Rectangle(2,4)\n",
    "shape = Shape()\n",
    "s.area"
   ]
  },
  {
   "cell_type": "code",
   "execution_count": 14,
   "metadata": {},
   "outputs": [
    {
     "data": {
      "text/plain": [
       "('Einstein', 'Ada', 'Church')"
      ]
     },
     "execution_count": 14,
     "metadata": {},
     "output_type": "execute_result"
    }
   ],
   "source": [
    "class Person:\n",
    "    def __init__(self, name):\n",
    "        self._name = name\n",
    "\n",
    "class Student(Person):\n",
    "    @property\n",
    "    def is_studying(self):\n",
    "        print(f\"{self._name} is studying\")\n",
    "        return True\n",
    "    \n",
    "class Unemployed(Student):\n",
    "    @property\n",
    "    def is_studying(self):\n",
    "        print(f\"{self._name} is not studying\")\n",
    "        return False\n",
    "    @property\n",
    "    def is_working(self):\n",
    "        print(f\"{self._name} is not unemployed\")\n",
    "        return False\n",
    "\n",
    "u = Unemployed(\"Ada\")\n",
    "s = Student(\"Einstein\")\n",
    "p = Person(\"Church\")\n",
    "\n",
    "s._name, u._name, p._name"
   ]
  },
  {
   "cell_type": "code",
   "execution_count": 16,
   "metadata": {},
   "outputs": [
    {
     "name": "stdout",
     "output_type": "stream",
     "text": [
      "Entering with message hello\n",
      "Within with statement got message hello\n",
      "Exit with message\n"
     ]
    }
   ],
   "source": [
    "class WithMessage(object):\n",
    "    def __init__(self, message):\n",
    "        self.message = message\n",
    "\n",
    "    def __enter__(self):\n",
    "        print(f\"Entering with message {self.message}\")\n",
    "        return self.message\n",
    "    \n",
    "    def __exit__(self, *args):\n",
    "        print(\"Exit with message\")\n",
    "\n",
    "\n",
    "with WithMessage(\"hello\") as msg:\n",
    "    print(f\"Within with statement got message {msg}\")\n",
    "\n"
   ]
  },
  {
   "cell_type": "code",
   "execution_count": 10,
   "metadata": {},
   "outputs": [
    {
     "name": "stdout",
     "output_type": "stream",
     "text": [
      "Vector(2.0, 4.0)\n"
     ]
    }
   ],
   "source": [
    "import matplotlib.pyplot as plt\n",
    "\n",
    "class Vector:\n",
    "    \"\"\"A class to represent Euclidean vectors\"\"\"\n",
    "\n",
    "    def __init__(self, *numbers):\n",
    "        # error checking\n",
    "        for number in numbers:\n",
    "            if not isinstance(number, (float, int)):\n",
    "                raise TypeError(f\"{number} is not a valid number.\")\n",
    "        if len(numbers) <= 0:\n",
    "            raise ValueError(\"Vector can't be empty.\")\n",
    "\n",
    "        self._numbers = tuple(float(number) for number in numbers)\n",
    "\n",
    "    @property\n",
    "    def numbers(self):\n",
    "        return self._numbers\n",
    "\n",
    "    @staticmethod\n",
    "    def validate2d(instance):\n",
    "        if not len(instance) == 2:\n",
    "            raise ValueError(\"Vector is not 2d\")\n",
    "        return True\n",
    "        \n",
    "    def __add__(self, other):\n",
    "        if self.validate_vector(other):\n",
    "            numbers = (a+b for a, b in zip(self.numbers, other.numbers))\n",
    "            return Vector(*numbers)\n",
    "\n",
    "    def __sub__(self, other):\n",
    "        if self.validate_vector(other):\n",
    "            numbers = (a-b for a, b in zip(self.numbers, other.numbers))\n",
    "            return Vector(*numbers)\n",
    "        \n",
    "    def __mul__(self, value):\n",
    "        if not isinstance(value, (float, int)):\n",
    "            raise TypeError(f\"Value must be a scalar (int or float).\")\n",
    "        numbers = (value*a for a in self.numbers)\n",
    "        return Vector(*numbers)\n",
    "    \n",
    "    def __rmul__(self, value):\n",
    "        return self*value\n",
    "\n",
    "    def __len__(self):\n",
    "        return len(self.numbers)\n",
    "\n",
    "    def validate_vector(self, other):\n",
    "        if not isinstance(other, Vector) or (len(self) != len(other)):\n",
    "            raise ValueError(f\"{other} is not a Vector\")\n",
    "        return True\n",
    "\n",
    "    def __abs__(self):\n",
    "        \"\"\"Returns the Euclidian norm of a Vector, aka the L2-norm\"\"\"\n",
    "        return sum(a**2 for a in self.numbers) ** .5\n",
    "    \n",
    "    def __repr__(self):\n",
    "        return f\"Vector{self.numbers}\"\n",
    "\n",
    "    def __getitem__(self, index):\n",
    "        return self.numbers[index]\n",
    "    \n",
    "    @staticmethod\n",
    "    def plot(*vectors):\n",
    "        X, Y = [], []\n",
    "        for v in vectors:\n",
    "            if Vector.validate2d(v):\n",
    "                X.append(v[0])\n",
    "                Y.append(v[1])\n",
    "            \n",
    "        originX = originY = tuple(0 for _ in range(len(X)))\n",
    "        plt.quiver(originX, originY, X, Y, angles='xy', scale_units='xy', scale=1)\n",
    "        plt.xlim(-2, 10)\n",
    "        plt.ylim(-2, 10)\n",
    "        plt.grid()\n",
    "        plt.show()\n",
    "\n",
    "a = Vector(2,1,3)\n",
    "b = Vector(1,1,1)\n",
    "print(a+b)"
   ]
  }
 ],
 "metadata": {
  "kernelspec": {
   "display_name": ".venv",
   "language": "python",
   "name": "python3"
  },
  "language_info": {
   "codemirror_mode": {
    "name": "ipython",
    "version": 3
   },
   "file_extension": ".py",
   "mimetype": "text/x-python",
   "name": "python",
   "nbconvert_exporter": "python",
   "pygments_lexer": "ipython3",
   "version": "3.12.6"
  }
 },
 "nbformat": 4,
 "nbformat_minor": 2
}
