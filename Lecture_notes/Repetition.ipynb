{
 "cells": [
  {
   "cell_type": "markdown",
   "metadata": {},
   "source": [
    "## Variabler och konstanter\n",
    "Variabler är bitar av minne som innehåller tal. Vi tolkar talen beroende på vilken _typ_ variabeln har.\n",
    "Konstanter är \"immutable\", dvs kan inte förändras efter att de skapats."
   ]
  },
  {
   "cell_type": "code",
   "execution_count": 29,
   "metadata": {},
   "outputs": [],
   "source": [
    "# Type-hints are optional\n",
    "a: int = 42\n",
    "b: str = \"hejsan\"\n",
    "c: list = [2,3,4]\n",
    "# Lists can have different objects in them, aka \"polytypic lists\"\n",
    "d: list = [\"2,\", 3, 2.0]\n",
    "kv: dict = {\"Ada\": 1, \"Lovelock\": 2, \"Einstein\": 3}\n",
    "sm: set = {1,2,3,4}\n",
    "sm2: set = {\"a\", \"b\"}\n",
    "# Sets can also have different types, as long as they can be 'hashed', ie converted to numbers.\n",
    "sm3: set = {\"a\", 1}\n",
    "const = (1,2)\n",
    "const = (1,)"
   ]
  },
  {
   "cell_type": "markdown",
   "metadata": {},
   "source": [
    "## Funktioner\n"
   ]
  },
  {
   "cell_type": "code",
   "execution_count": 30,
   "metadata": {},
   "outputs": [
    {
     "name": "stdout",
     "output_type": "stream",
     "text": [
      "3\n"
     ]
    }
   ],
   "source": [
    "# Pure function, no side-effects, only uses input parameters and predefined operations\n",
    "def my_function(a, b, c=1):\n",
    "    \"\"\"Here there should be a usage text for this function.\"\"\"\n",
    "    return a*c + b\n",
    "\n",
    "def my_proc():\n",
    "    with open(\"somefile\") as file:\n",
    "        return file.readlines()\n",
    "\n",
    "import numpy as np\n",
    "radius = 3.0\n",
    "area = 2 * np.pi * np.power(radius, 2)\n",
    "\n",
    "np.pi = 3\n",
    "print(np.pi)"
   ]
  },
  {
   "cell_type": "markdown",
   "metadata": {},
   "source": [
    "Python använder (per rekommendation)\n",
    "\n",
    "CamelCase\n",
    "\n",
    "this_is_snake_case\n",
    "\n",
    "GLOBALVARIABLES"
   ]
  },
  {
   "cell_type": "markdown",
   "metadata": {},
   "source": [
    "## LISTOR"
   ]
  },
  {
   "cell_type": "code",
   "execution_count": 39,
   "metadata": {},
   "outputs": [
    {
     "name": "stdout",
     "output_type": "stream",
     "text": [
      "ETTA ÄR\n",
      "[1, 2, 3, 4, 5, 6, 7, 8, 9, 10]\n",
      "DETTA till 5\n",
      "G\n",
      "N\n",
      "TA ÄR EN STRÄ 3 till -3\n",
      "NÄRTS NE RÄ A allt\n"
     ]
    },
    {
     "data": {
      "text/plain": [
       "(10, [0, 1, 2, 3, 4, 5, 6, 7, 8, 9, 10])"
      ]
     },
     "execution_count": 39,
     "metadata": {},
     "output_type": "execute_result"
    }
   ],
   "source": [
    "#Indexering\n",
    "A = [0, 1,2,3,4,5,6,7,8,9,10]\n",
    "S = \"DETTA ÄR EN STRÄNG\"\n",
    "# Index slicing\n",
    "print(S[1:8])\n",
    "print(A[1:])\n",
    "print(f\"{S[:5]} till 5\")\n",
    "print(S[-1])\n",
    "print(S[-2])\n",
    "print(f\"{S[3:-2]} 3 till -3\")\n",
    "# Why did i do this?!\n",
    "print(f\"{S[-2:3:-1]} allt\")\n",
    "\n",
    "e = A.pop()\n",
    "A.append(e)\n",
    "e, A"
   ]
  },
  {
   "cell_type": "code",
   "execution_count": 32,
   "metadata": {},
   "outputs": [
    {
     "data": {
      "text/plain": [
       "([0, 0, 2, 6, 4, 12, 6, 18, 8, 24], [0, 0, 2, 6, 4, 12, 6, 18, 8, 24])"
      ]
     },
     "execution_count": 32,
     "metadata": {},
     "output_type": "execute_result"
    }
   ],
   "source": [
    "# List comprehension\n",
    "def f(x):\n",
    "    return x**2\n",
    "\n",
    "\n",
    "list(map(f, [1, 2, 3, 4]))\n",
    "# equivalent\n",
    "[f(i) for i in [1, 2, 3, 4]]\n",
    "\n",
    "sqrs = [i*j\n",
    "        for i in range(10)\n",
    "        for j in range(5)\n",
    "        if i % 2 == 0 and j % 2 != 0]\n",
    "\n",
    "sqr_list = list()\n",
    "for i in range(10):\n",
    "    for j in range(5):\n",
    "        if i % 2 == 0 and j % 2 != 0:\n",
    "            sqr_list.append(i*j)\n",
    "\n",
    "sqr_list, sqrs"
   ]
  },
  {
   "cell_type": "markdown",
   "metadata": {},
   "source": [
    "## Dictionary"
   ]
  },
  {
   "cell_type": "code",
   "execution_count": 52,
   "metadata": {},
   "outputs": [
    {
     "name": "stdout",
     "output_type": "stream",
     "text": [
      "1\n",
      "a 1\n",
      "b 2\n",
      "c 3\n",
      "{'Byron': 'Ada', 'Gödel': 'Kurt', 'Turing': 'Alan  ', 'Church': ' Alonzo '}\n",
      "{'Byron': 'Ada', 'Gödel': 'Kurt', 'Turing': 'Alan', 'Church': 'Alonzo'}\n"
     ]
    }
   ],
   "source": [
    "kv = {\"a\": 1, \"b\":2, \"c\":3}\n",
    "# Indexeras med \"nycklar\"\n",
    "print(kv[\"a\"])\n",
    "# Iterating dictionaries\n",
    "for k in kv:\n",
    "    print(k, kv[k])\n",
    "A = [\"Ada\", \"Kurt\", \"Alan  \", \" Alonzo \"]\n",
    "B = [\"Byron\", \"Gödel\", \"Turing\", \"Church\"]\n",
    "\n",
    "computer_scientists = {efternamn:fornamn.strip() for fornamn, efternamn in zip(A, B)}\n",
    "print(dict(zip(B,A)))\n",
    "print(computer_scientists)"
   ]
  },
  {
   "cell_type": "code",
   "execution_count": 55,
   "metadata": {},
   "outputs": [
    {
     "ename": "SyntaxError",
     "evalue": "unmatched ')' (3075762877.py, line 1)",
     "output_type": "error",
     "traceback": [
      "\u001b[0;36m  Cell \u001b[0;32mIn[55], line 1\u001b[0;36m\u001b[0m\n\u001b[0;31m    dict().__dir__())\u001b[0m\n\u001b[0m                    ^\u001b[0m\n\u001b[0;31mSyntaxError\u001b[0m\u001b[0;31m:\u001b[0m unmatched ')'\n"
     ]
    }
   ],
   "source": [
    "dict().__dir__()"
   ]
  }
 ],
 "metadata": {
  "kernelspec": {
   "display_name": ".venv",
   "language": "python",
   "name": "python3"
  },
  "language_info": {
   "codemirror_mode": {
    "name": "ipython",
    "version": 3
   },
   "file_extension": ".py",
   "mimetype": "text/x-python",
   "name": "python",
   "nbconvert_exporter": "python",
   "pygments_lexer": "ipython3",
   "version": "3.12.7"
  }
 },
 "nbformat": 4,
 "nbformat_minor": 2
}
