{
 "cells": [
  {
   "cell_type": "markdown",
   "metadata": {},
   "source": [
    "# \"Big ideas\" in programming\n",
    "* \"Logical thinking\"\n",
    "* Formal language and syntax\n",
    "* Variables and constants \n",
    "* Parameters\n",
    "* Flow control\n",
    "* Function, process, method\n",
    "* Algorithm\n",
    "* Data structures\n",
    "* Composition / Decomposition\n",
    "* Reusability (DRY)\n"
   ]
  },
  {
   "cell_type": "markdown",
   "metadata": {},
   "source": [
    "<dl><dt>Logical thinking</dt>\n",
    "<dd>This means being able to follow the sequence of operations in your mind, for example figuring out when a loop condition is met and the loop terminates.</dd>\n",
    "<dt>Formal language and syntax</dt>\n",
    "<dd>Unlike natural languages, formal languages can't have any ambiguities. Understanding <em>what</em> things like assignment, function calls and list indexing actually do is another \"big idea\" in order to master programming.</dd>\n",
    "\n",
    "<dt>Variables and constants</dt>\n",
    "<dd>Understanding the role of variables and their values and the special case of constant values is key to understanding <em>performance</em> of programs. How is memory used, or equivalently-- what types do the values have?</dd>\n",
    "\n",
    "<dt>Parameters</dt>\n",
    "<dd>A special case of variables are <em>parameters</em>. They are constant within the scope of a particular function, method or procedure. They are the formal <em>arguments</em> to a function-- but methods and procedures have contexts that don't really match that mathematical definition. They are called parameters in the general case.</dd>\n",
    "\n",
    "<dt>Flow control</dt>\n",
    "<dd>Understanding how execution proceeds through a program boils down to understanding its <em>control flow</em>. In the simplest case this is simply a matter of reading the code, line by line, in a typical procedural script. However, in some applications it's a matter of understanding complex relationships between asynchronous objects that register callbacks or message subscriptions in abstract handlers.</dd>\n",
    "\n",
    "<dt>Function, process, method</dt>\n",
    "<dd>The understanding of <em>scope</em> and <em>context</em> is critical for understanding complex computer programs. The visibility of definitions and1 memory locations are often the difference between a \"good\" and a \"bad\" program.</dd> \n",
    "\n",
    "<dt>Algorithms</dt>\n",
    "<dd>Every computer program is an algorithm, but in many cases computer programs don't produce a concrete output. When the program actually calculates something and outputs data to be used elsewhere, it's referred to as an \"algorithm\". This output is in a particular form -- the <em>normal form</em>. Examples of famous algorithms are All-Shortest-Paths, Stochastic-Gradient-Descent, Singular-Value-Decomposition and Fast-Fourier-Transform.</dd>\n",
    "<dt>Data structures</dt>\n",
    "<dd>A key insight is of programming is that all data can be interpreted as symbols. In order for the operational semantics of the symbols to match out intended interpretation, data must be structured in particular ways. For example the concept of a key-value list needs an efficient representation (a <em>hash table</em> in this case). An indexing array of elements needs to have a particular memory-layout so that elements end up in the right order. These are <em>data structures</em> and are intricately linked to algorithms. Indeed, every datastructure is produced by one or more algorithms (methods / procedures / functions).</dd>\n",
    "\n",
    "<dt>Compostition / Decomposition</dt>\n",
    "<dd>Reusing existing components and breaking them apart is key to effective software development, both when using other libraries and when writing them yourself. Structuring objects, functions and scripts into logical and intuitive modules is a challenging and creative task.</dd>\n",
    "\n",
    "<dt>Resusability</dt>\n",
    "<dd>Writing code to be reusable is an additional challenge. Knowing when reuse is \"worth it\" is a very esoteric and varying topic.</dd>\n",
    "</dl>"
   ]
  }
 ],
 "metadata": {
  "language_info": {
   "name": "python"
  }
 },
 "nbformat": 4,
 "nbformat_minor": 2
}
