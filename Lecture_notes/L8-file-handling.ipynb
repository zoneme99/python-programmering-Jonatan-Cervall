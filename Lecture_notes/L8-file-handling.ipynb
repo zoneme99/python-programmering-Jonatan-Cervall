{
 "cells": [
  {
   "cell_type": "markdown",
   "metadata": {},
   "source": [
    "\n",
    "<a href=\"https://colab.research.google.com/github/kokchun/Python-course-AI22/blob/main/Lectures/L8-file-handling.ipynb\" target=\"_parent\"><img align=\"left\" src=\"https://colab.research.google.com/assets/colab-badge.svg\" alt=\"Open In Colab\"/></a> &nbsp; for interacting with the code"
   ]
  },
  {
   "cell_type": "markdown",
   "metadata": {},
   "source": [
    "---\n",
    "# Lecture notes - file handling\n",
    "\n",
    "---\n",
    "This is the lecture note for **file handling**, but it's built upon contents from previous lectures such as: \n",
    "- input-output\n",
    "- variables\n",
    "- if-statement\n",
    "- for loop\n",
    "- while \n",
    "- lists\n",
    "- random\n",
    "- strings\n",
    "- functions\n",
    "- error handling\n",
    "\n",
    "<p class = \"alert alert-info\" role=\"alert\"><b>Note</b> that this lecture note gives a brief introduction to file handling. I encourage you to read further about file handling.\n",
    "\n",
    "Read more [w3schools - file handling](https://www.w3schools.com/python/python_file_handling.asp). Learn about the different functions of file handling in this resource, but don't use it exactly as stated. Use in combination with the **with** statement to ensure safe working with files.\n",
    "\n",
    "Read more [real python - with statement](https://realpython.com/python-with-statement/)\n",
    "\n",
    "Files used is found here: [Files](https://github.com/kokchun/Programmering-med-Python-21/tree/main/Files)\n",
    "\n",
    "---"
   ]
  },
  {
   "cell_type": "markdown",
   "metadata": {},
   "source": [
    "## with statement\n",
    "- **with** statement together with **open** is used to safely open files and cleaning up the resource afterwards\n",
    "- another way is to use try..except..finally and remember to close the file, but is too verbose\n",
    "\n",
    "syntax: \n",
    "```python\n",
    "with open(path, option) as file_name: \n",
    "    statements \n",
    "    ...\n",
    "```\n",
    "option\n",
    "- \"r\" - read\n",
    "- \"a\" - append, creates the file if it doesn't exist\n",
    "- \"w\" - write - opens a file for writing, creates it if it doesn't exist\n",
    "- \"x\" - create - creates a file, error if it already exists"
   ]
  },
  {
   "cell_type": "code",
   "execution_count": 78,
   "metadata": {},
   "outputs": [
    {
     "name": "stdout",
     "output_type": "stream",
     "text": [
      "'  If     we     knew what it was      we were doing, it would not be called research,          would it?     - Albert Einstein\\n\\nTime is a drug. Too       much of it kills you.  -  Terry Pratchett\\n\\n\\n An expert is a person who       has made all the mistakes that           can be made in a          very narrow field - Niels Bohr\\n\\n   Everything must be made as simple as possible. But not simpler. - Albert Einstein     \\n\\n\\n  Nothing in life                is to be feared, it is only to be understood. Now is the time to understand more, so that we may fear less. - Marie  Curie  \\n\\nIf I have seen further     it is by standing on the shoulders of Giants. - Isaac Newton'\n"
     ]
    }
   ],
   "source": [
    "path = \"../Files/quotes.txt\" # it's a relative path from '..' goes up a folder\n",
    "\n",
    "with open(path, \"r\") as f:\n",
    "    text = f.read() # reads the whole file\n",
    "\n",
    "print(repr(text)) # prints out the raw string"
   ]
  },
  {
   "cell_type": "markdown",
   "metadata": {},
   "source": [
    "---\n",
    "## Clean up quotes.txt\n",
    "\n",
    "Strategy\n",
    "- inspect the txt-file (and notice that some prankster has added random noise in form of whitespaces)\n",
    "- remove all leading and trailing whitespaces\n",
    "- remove excessive white spaces\n",
    "- add quote numbers"
   ]
  },
  {
   "cell_type": "code",
   "execution_count": 79,
   "metadata": {},
   "outputs": [],
   "source": [
    "import re \n",
    "\n",
    "quotes, i = [], 1 # i is used for quotenumber\n",
    "\n",
    "# opens two files, one for reading and one for writing\n",
    "with open(\"../Files/quotes.txt\", \"r\") as f_read, open(\"../Files/quotes_cleaned.txt\", \"w\") as f_write: \n",
    "    \n",
    "    f_write.write(\"Famous quotes\\n\\n\")\n",
    "    for quote in f_read:\n",
    "        quote = quote.strip(\" \\n\") # removes leading and trailing space and newlines\n",
    "        quote = re.sub(\" +\", \" \", quote) # regular expression to substitute >=1 whitespace with 1 whitespace\n",
    "        \n",
    "        #print(quote, end=\"\")\n",
    "        # some lines are empty due to vertical whitespaces\n",
    "        if quote != \"\":\n",
    "            f_write.write(f\"{i}. {quote}\\n\")\n",
    "            i+=1"
   ]
  },
  {
   "cell_type": "markdown",
   "metadata": {},
   "source": [
    "---\n",
    "## Extract authors\n",
    "\n",
    "Strategy\n",
    "- check for digits to find the quotes\n",
    "- extract first name and last names\n",
    "- join them into full name \n",
    "- extract unique values"
   ]
  },
  {
   "cell_type": "code",
   "execution_count": 80,
   "metadata": {},
   "outputs": [
    {
     "name": "stdout",
     "output_type": "stream",
     "text": [
      "[['Albert', 'Einstein'], ['Terry', 'Pratchett'], ['Niels', 'Bohr'], ['Albert', 'Einstein'], ['Marie', 'Curie'], ['Isaac', 'Newton']]\n",
      "{'Niels Bohr', 'Terry Pratchett', 'Isaac Newton', 'Albert Einstein', 'Marie Curie'}\n"
     ]
    }
   ],
   "source": [
    "with open(\"../Files/quotes_cleaned.txt\", \"r\") as f_read, open(\"../Files/quotes_cleaned.txt\", \"a\") as f_append:\n",
    "    quotes = [quote.strip(\"\\n\") for quote in f_read.readlines() if quote[0].isdigit()] # save if it's a quote by searching the number\n",
    "    authors = [quote.split()[-2:] for quote in quotes] # gets first name and last name\n",
    "    print(authors)\n",
    "    authors = set([\" \".join(author) for author in authors]) # a set contains only the unique values\n",
    "    print(authors)\n",
    "\n",
    "    f_append.write(\"\\nAuthors: \")\n",
    "    for author in authors: \n",
    "        f_append.write(f\"{author}, \")"
   ]
  },
  {
   "cell_type": "markdown",
   "metadata": {},
   "source": [
    "---\n",
    "\n",
    "Kokchun Giang\n",
    "\n",
    "[LinkedIn][linkedIn_kokchun]\n",
    "\n",
    "[GitHub portfolio][github_portfolio]\n",
    "\n",
    "[linkedIn_kokchun]: https://www.linkedin.com/in/kokchungiang/\n",
    "[github_portfolio]: https://github.com/kokchun/Portfolio-Kokchun-Giang\n",
    "\n",
    "---"
   ]
  }
 ],
 "metadata": {
  "kernelspec": {
   "display_name": "Python 3.9.6 64-bit",
   "language": "python",
   "name": "python3"
  },
  "language_info": {
   "codemirror_mode": {
    "name": "ipython",
    "version": 3
   },
   "file_extension": ".py",
   "mimetype": "text/x-python",
   "name": "python",
   "nbconvert_exporter": "python",
   "pygments_lexer": "ipython3",
   "version": "3.9.6"
  },
  "orig_nbformat": 4,
  "vscode": {
   "interpreter": {
    "hash": "0da836a34428266995a795f1e1e27b816fa1c02f148d9728b3fbbbc5459afca6"
   }
  }
 },
 "nbformat": 4,
 "nbformat_minor": 2
}
